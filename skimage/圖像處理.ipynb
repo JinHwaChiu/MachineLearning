{
 "cells": [
  {
   "cell_type": "markdown",
   "metadata": {},
   "source": [
    "\n",
    "http://www.cnblogs.com/denny402/p/5122112.html\n",
    "\n",
    "图片读入程序中后，是以numpy数组存在的。因此对numpy数组的一切功能，对图片也适用。对数组元素的访问，实际上就是对图片像素点的访问。\n",
    "\n",
    "彩色图片访问方式为：\n",
    "\n",
    "img[i,j,c]\n",
    "\n",
    "i表示图片的行数，j表示图片的列数，c表示图片的通道数（RGB三通道分别对应0，1，2）。坐标是从左上角开始。\n",
    "\n",
    "灰度图片访问方式为：\n",
    "\n",
    "gray[i,j]\n",
    "\n",
    "例1：输出小猫图片的G通道中的第20行30列的像素值"
   ]
  },
  {
   "cell_type": "code",
   "execution_count": null,
   "metadata": {
    "collapsed": true
   },
   "outputs": [],
   "source": [
    "import matplotlib.pyplot as plt\n",
    "from skimage import io,data\n",
    "import numpy as np\n",
    "img=data.chelsea()\n",
    "\n",
    "#随机生成5000个椒盐\n",
    "rows,cols,dims=img.shape\n",
    "for i in range(5000):\n",
    "    x=np.random.randint(0,rows)\n",
    "    y=np.random.randint(0,cols)\n",
    "    img[x,y,:]=255\n",
    "    \n",
    "plt.imshow(img)\n",
    "plt.show()"
   ]
  }
 ],
 "metadata": {
  "kernelspec": {
   "display_name": "Python 2",
   "language": "python",
   "name": "python2"
  },
  "language_info": {
   "codemirror_mode": {
    "name": "ipython",
    "version": 2
   },
   "file_extension": ".py",
   "mimetype": "text/x-python",
   "name": "python",
   "nbconvert_exporter": "python",
   "pygments_lexer": "ipython2",
   "version": "2.7.13"
  }
 },
 "nbformat": 4,
 "nbformat_minor": 2
}
